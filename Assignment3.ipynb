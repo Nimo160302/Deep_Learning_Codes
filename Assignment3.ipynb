{
  "nbformat": 4,
  "nbformat_minor": 0,
  "metadata": {
    "colab": {
      "provenance": [],
      "authorship_tag": "ABX9TyNGk79LraRuj4AoQQ+63SoK",
      "include_colab_link": true
    },
    "kernelspec": {
      "name": "python3",
      "display_name": "Python 3"
    },
    "language_info": {
      "name": "python"
    }
  },
  "cells": [
    {
      "cell_type": "markdown",
      "metadata": {
        "id": "view-in-github",
        "colab_type": "text"
      },
      "source": [
        "<a href=\"https://colab.research.google.com/github/Nimo160302/Deep_Learning_Codes/blob/main/Assignment3.ipynb\" target=\"_parent\"><img src=\"https://colab.research.google.com/assets/colab-badge.svg\" alt=\"Open In Colab\"/></a>"
      ]
    },
    {
      "cell_type": "code",
      "execution_count": 202,
      "metadata": {
        "colab": {
          "base_uri": "https://localhost:8080/",
          "height": 105
        },
        "id": "0wp7t5YUdyIN",
        "outputId": "1b048426-270f-4807-d7bd-4b86915acdd2"
      },
      "outputs": [
        {
          "output_type": "execute_result",
          "data": {
            "text/plain": [
              "'Q-1. Compare the Loss functions [5marks]\\nTrain a single-layer neural network using:\\n\\nMean Squared Error (MSE) for regression\\n\\nBinary Cross Entropy (BCE) for classification\\n\\nDataset:\\nUse make_regression for regression\\n\\nUse make_classification for binary classification\\n\\nInstructions:\\nImplement a single neuron (no hidden layers)\\n\\nUse sigmoid activation only for classification\\n\\nUse no activation for regression\\n\\nTrain using gradient descent\\n\\nPlot loss vs. epochs for both cases'"
            ],
            "application/vnd.google.colaboratory.intrinsic+json": {
              "type": "string"
            }
          },
          "metadata": {},
          "execution_count": 202
        }
      ],
      "source": [
        "'''Q-1. Compare the Loss functions [5marks]\n",
        "Train a single-layer neural network using:\n",
        "\n",
        "Mean Squared Error (MSE) for regression\n",
        "\n",
        "Binary Cross Entropy (BCE) for classification\n",
        "\n",
        "Dataset:\n",
        "Use make_regression for regression\n",
        "\n",
        "Use make_classification for binary classification\n",
        "\n",
        "Instructions:\n",
        "Implement a single neuron (no hidden layers)\n",
        "\n",
        "Use sigmoid activation only for classification\n",
        "\n",
        "Use no activation for regression\n",
        "\n",
        "Train using gradient descent\n",
        "\n",
        "Plot loss vs. epochs for both cases'''"
      ]
    },
    {
      "cell_type": "code",
      "source": [
        "import numpy as np\n",
        "from sklearn.model_selection import train_test_split\n",
        "from sklearn.datasets import make_regression, make_classification\n",
        "import matplotlib.pyplot as plt\n",
        "from sklearn.metrics import mean_squared_error,  log_loss"
      ],
      "metadata": {
        "id": "NulfIeTcAyKw"
      },
      "execution_count": 203,
      "outputs": []
    },
    {
      "cell_type": "code",
      "source": [
        "X, y = make_regression(n_samples=100, n_features=100, noise=1, random_state=42)\n",
        "y  = y.reshape(-1, 1 )"
      ],
      "metadata": {
        "id": "b6oRXxaweWPh"
      },
      "execution_count": 204,
      "outputs": []
    },
    {
      "cell_type": "code",
      "source": [
        "X.shape"
      ],
      "metadata": {
        "colab": {
          "base_uri": "https://localhost:8080/"
        },
        "id": "5XkonOHJ_0uK",
        "outputId": "b6e33636-9d74-4d05-f64b-4bccf4b00fe1"
      },
      "execution_count": 205,
      "outputs": [
        {
          "output_type": "execute_result",
          "data": {
            "text/plain": [
              "(100, 100)"
            ]
          },
          "metadata": {},
          "execution_count": 205
        }
      ]
    },
    {
      "cell_type": "code",
      "source": [
        "y.shape"
      ],
      "metadata": {
        "colab": {
          "base_uri": "https://localhost:8080/"
        },
        "id": "RlXU0zfx_7f3",
        "outputId": "2ee846ac-2ecd-4de2-f52f-01e26a100b7c"
      },
      "execution_count": 206,
      "outputs": [
        {
          "output_type": "execute_result",
          "data": {
            "text/plain": [
              "(100, 1)"
            ]
          },
          "metadata": {},
          "execution_count": 206
        }
      ]
    },
    {
      "cell_type": "code",
      "source": [
        "x_train, x_test, y_train, y_test  =  train_test_split(X, y, test_size =  0.2)"
      ],
      "metadata": {
        "id": "IuJLsXWL_8Jy"
      },
      "execution_count": 207,
      "outputs": []
    },
    {
      "cell_type": "code",
      "source": [
        "print(x_train.shape, y_train.shape, x_test.shape, y_test.shape)"
      ],
      "metadata": {
        "colab": {
          "base_uri": "https://localhost:8080/"
        },
        "id": "EP9FluWkBwP0",
        "outputId": "59cb65a2-6585-47d2-ed92-51ab37ca9ee8"
      },
      "execution_count": 208,
      "outputs": [
        {
          "output_type": "stream",
          "name": "stdout",
          "text": [
            "(80, 100) (80, 1) (20, 100) (20, 1)\n"
          ]
        }
      ]
    },
    {
      "cell_type": "code",
      "source": [
        "input_size  =  100\n",
        "output_size  = 1\n",
        "epochs = 100\n",
        "lr  = 0.1\n",
        "\n",
        "\n",
        "w = np.random.uniform(0, 1, (input_size, output_size))\n",
        "b = np.array([[1]])"
      ],
      "metadata": {
        "id": "fdodeNVgB2Ef"
      },
      "execution_count": 209,
      "outputs": []
    },
    {
      "cell_type": "code",
      "source": [
        "w"
      ],
      "metadata": {
        "colab": {
          "base_uri": "https://localhost:8080/"
        },
        "id": "5QnGPrapB5s2",
        "outputId": "2b643be2-33c7-4d27-c2c2-799a8235a6fb"
      },
      "execution_count": 210,
      "outputs": [
        {
          "output_type": "execute_result",
          "data": {
            "text/plain": [
              "array([[0.9642684 ],\n",
              "       [0.40103323],\n",
              "       [0.82003226],\n",
              "       [0.04035312],\n",
              "       [0.77726742],\n",
              "       [0.51310063],\n",
              "       [0.76282222],\n",
              "       [0.42230843],\n",
              "       [0.31565444],\n",
              "       [0.96147207],\n",
              "       [0.68932587],\n",
              "       [0.69937146],\n",
              "       [0.64621124],\n",
              "       [0.7837144 ],\n",
              "       [0.09130298],\n",
              "       [0.51098084],\n",
              "       [0.59828154],\n",
              "       [0.3651717 ],\n",
              "       [0.37093014],\n",
              "       [0.79802442],\n",
              "       [0.22143153],\n",
              "       [0.62097701],\n",
              "       [0.17661724],\n",
              "       [0.88005911],\n",
              "       [0.2631644 ],\n",
              "       [0.86374153],\n",
              "       [0.44494518],\n",
              "       [0.48100787],\n",
              "       [0.35488556],\n",
              "       [0.37046754],\n",
              "       [0.97499138],\n",
              "       [0.01488589],\n",
              "       [0.05894809],\n",
              "       [0.59847491],\n",
              "       [0.18675324],\n",
              "       [0.39237088],\n",
              "       [0.04698042],\n",
              "       [0.27378231],\n",
              "       [0.18723041],\n",
              "       [0.84793844],\n",
              "       [0.66600822],\n",
              "       [0.23558844],\n",
              "       [0.21664112],\n",
              "       [0.70113937],\n",
              "       [0.74328575],\n",
              "       [0.62892191],\n",
              "       [0.80112677],\n",
              "       [0.89013113],\n",
              "       [0.26280892],\n",
              "       [0.42935235],\n",
              "       [0.25642843],\n",
              "       [0.93454037],\n",
              "       [0.30519251],\n",
              "       [0.54872551],\n",
              "       [0.08531868],\n",
              "       [0.49848268],\n",
              "       [0.10140232],\n",
              "       [0.99142869],\n",
              "       [0.26091042],\n",
              "       [0.69687506],\n",
              "       [0.12672985],\n",
              "       [0.52411907],\n",
              "       [0.15871465],\n",
              "       [0.42841108],\n",
              "       [0.02144269],\n",
              "       [0.35416385],\n",
              "       [0.57103967],\n",
              "       [0.01299911],\n",
              "       [0.26489898],\n",
              "       [0.13949474],\n",
              "       [0.88762996],\n",
              "       [0.70008893],\n",
              "       [0.82989198],\n",
              "       [0.78196432],\n",
              "       [0.97860391],\n",
              "       [0.0733418 ],\n",
              "       [0.64726928],\n",
              "       [0.475518  ],\n",
              "       [0.1653672 ],\n",
              "       [0.71198833],\n",
              "       [0.36755122],\n",
              "       [0.91729037],\n",
              "       [0.63289509],\n",
              "       [0.27758128],\n",
              "       [0.73819022],\n",
              "       [0.43341218],\n",
              "       [0.32771348],\n",
              "       [0.50999482],\n",
              "       [0.88517997],\n",
              "       [0.94160302],\n",
              "       [0.3834239 ],\n",
              "       [0.73608698],\n",
              "       [0.89337963],\n",
              "       [0.50757607],\n",
              "       [0.37341513],\n",
              "       [0.50928648],\n",
              "       [0.1353396 ],\n",
              "       [0.06429246],\n",
              "       [0.29021315],\n",
              "       [0.94079459]])"
            ]
          },
          "metadata": {},
          "execution_count": 210
        }
      ]
    },
    {
      "cell_type": "code",
      "source": [
        "b"
      ],
      "metadata": {
        "colab": {
          "base_uri": "https://localhost:8080/"
        },
        "id": "BRgrCqeTCqeN",
        "outputId": "399e5978-ec75-4ac1-b71d-e378412604b8"
      },
      "execution_count": 211,
      "outputs": [
        {
          "output_type": "execute_result",
          "data": {
            "text/plain": [
              "array([[1]])"
            ]
          },
          "metadata": {},
          "execution_count": 211
        }
      ]
    },
    {
      "cell_type": "code",
      "source": [
        "def train_model(x, w , b):\n",
        "  loss_arr  =[]\n",
        "\n",
        "  for i in range(epochs):\n",
        "    #forward pass equation\n",
        "    y_pred = np.dot(x,w) + b\n",
        "\n",
        "    #loss\n",
        "\n",
        "    loss =  1/2*np.mean((y_pred - y_train)**2)\n",
        "    d_loss =  (y_pred - y_train)/y_train.shape[0]\n",
        "\n",
        "    #back proppogation\n",
        "\n",
        "\n",
        "    w = w - lr* (np.dot(x.T, d_loss))\n",
        "    b =  b - lr* (np.sum(d_loss , axis  = 0 , keepdims= True))\n",
        "\n",
        "\n",
        "    loss_arr.append(loss)\n",
        "\n",
        "  return w, b, loss_arr"
      ],
      "metadata": {
        "id": "iaL9DnfaCrmZ"
      },
      "execution_count": 212,
      "outputs": []
    },
    {
      "cell_type": "code",
      "source": [
        "w , b, loss_arr  = train_model(x_train , w, b)"
      ],
      "metadata": {
        "id": "EQnURZgwDqFt"
      },
      "execution_count": 213,
      "outputs": []
    },
    {
      "cell_type": "code",
      "source": [
        "# w"
      ],
      "metadata": {
        "id": "i_uU1vnzDrWi"
      },
      "execution_count": 214,
      "outputs": []
    },
    {
      "cell_type": "code",
      "source": [
        "b"
      ],
      "metadata": {
        "colab": {
          "base_uri": "https://localhost:8080/"
        },
        "id": "KnzGE1moDtrb",
        "outputId": "a76086a6-12a8-4c69-813c-286bf6669eaf"
      },
      "execution_count": 215,
      "outputs": [
        {
          "output_type": "execute_result",
          "data": {
            "text/plain": [
              "array([[5.83532294]])"
            ]
          },
          "metadata": {},
          "execution_count": 215
        }
      ]
    },
    {
      "cell_type": "code",
      "source": [
        "len(loss_arr)"
      ],
      "metadata": {
        "colab": {
          "base_uri": "https://localhost:8080/"
        },
        "id": "vNAtTy8QDvXw",
        "outputId": "9d12fff3-7fc4-483a-b0aa-4a466a78bcbf"
      },
      "execution_count": 216,
      "outputs": [
        {
          "output_type": "execute_result",
          "data": {
            "text/plain": [
              "100"
            ]
          },
          "metadata": {},
          "execution_count": 216
        }
      ]
    },
    {
      "cell_type": "code",
      "source": [
        "plt.plot(loss_arr)\n",
        "plt.ylabel('loss')\n",
        "plt.xlabel('epochs')\n",
        "plt.title('loss vs epochs in Regression')\n",
        "plt.show()"
      ],
      "metadata": {
        "colab": {
          "base_uri": "https://localhost:8080/",
          "height": 472
        },
        "id": "RcBkN_TpHQZo",
        "outputId": "96ae9ddd-ad25-4d40-9be5-b9892871a8d3"
      },
      "execution_count": 217,
      "outputs": [
        {
          "output_type": "display_data",
          "data": {
            "text/plain": [
              "<Figure size 640x480 with 1 Axes>"
            ],
            "image/png": "[encoded data removed]"
          },
          "metadata": {}
        }
      ]
    },
    {
      "cell_type": "code",
      "source": [
        "y_train.reshape(-1, 1).shape"
      ],
      "metadata": {
        "colab": {
          "base_uri": "https://localhost:8080/"
        },
        "id": "UJzwqK5QKtzE",
        "outputId": "f728fb5f-287f-4251-9b74-90f05dd03899"
      },
      "execution_count": 218,
      "outputs": [
        {
          "output_type": "execute_result",
          "data": {
            "text/plain": [
              "(80, 1)"
            ]
          },
          "metadata": {},
          "execution_count": 218
        }
      ]
    },
    {
      "cell_type": "code",
      "source": [
        "from sklearn.datasets import make_classification"
      ],
      "metadata": {
        "id": "BxSgiDd2LSnY"
      },
      "execution_count": 219,
      "outputs": []
    },
    {
      "cell_type": "code",
      "source": [
        "x , y   =  make_classification(random_state= 42)"
      ],
      "metadata": {
        "id": "Dc_6YoEYi-eT"
      },
      "execution_count": 220,
      "outputs": []
    },
    {
      "cell_type": "code",
      "source": [
        "x.shape"
      ],
      "metadata": {
        "colab": {
          "base_uri": "https://localhost:8080/"
        },
        "id": "7XmhCAFrjEGU",
        "outputId": "2b7944d9-014c-4685-c04d-edd97d8fbc09"
      },
      "execution_count": 221,
      "outputs": [
        {
          "output_type": "execute_result",
          "data": {
            "text/plain": [
              "(100, 20)"
            ]
          },
          "metadata": {},
          "execution_count": 221
        }
      ]
    },
    {
      "cell_type": "code",
      "source": [
        "y.shape"
      ],
      "metadata": {
        "colab": {
          "base_uri": "https://localhost:8080/"
        },
        "id": "PXrcXm2fjjZz",
        "outputId": "ad4a1d0b-ab2a-4f2b-bdd0-b63b4a5b1729"
      },
      "execution_count": 222,
      "outputs": [
        {
          "output_type": "execute_result",
          "data": {
            "text/plain": [
              "(100,)"
            ]
          },
          "metadata": {},
          "execution_count": 222
        }
      ]
    },
    {
      "cell_type": "code",
      "source": [
        "y  =  y.reshape(-1, 1)"
      ],
      "metadata": {
        "id": "pS3UEYcBjmvr"
      },
      "execution_count": 223,
      "outputs": []
    },
    {
      "cell_type": "code",
      "source": [],
      "metadata": {
        "id": "fNIrgbXgjtwd"
      },
      "execution_count": 223,
      "outputs": []
    },
    {
      "cell_type": "code",
      "source": [
        "y.shape"
      ],
      "metadata": {
        "colab": {
          "base_uri": "https://localhost:8080/"
        },
        "id": "FDB2W3ggjpkY",
        "outputId": "2c42b76c-d77d-47c4-92a9-b6374edb8638"
      },
      "execution_count": 224,
      "outputs": [
        {
          "output_type": "execute_result",
          "data": {
            "text/plain": [
              "(100, 1)"
            ]
          },
          "metadata": {},
          "execution_count": 224
        }
      ]
    },
    {
      "cell_type": "code",
      "source": [
        "x_train , x_test, y_train , y_test = train_test_split(x, y, test_size =0.2)"
      ],
      "metadata": {
        "id": "OvNIdyLQjqdY"
      },
      "execution_count": 225,
      "outputs": []
    },
    {
      "cell_type": "code",
      "source": [
        "print(x_train.shape, y_train.shape , x_test.shape , y_test.shape)"
      ],
      "metadata": {
        "colab": {
          "base_uri": "https://localhost:8080/"
        },
        "id": "l33SwdnJjzak",
        "outputId": "4a4b449f-ac8c-4fbe-cd1a-492a2451a386"
      },
      "execution_count": 226,
      "outputs": [
        {
          "output_type": "stream",
          "name": "stdout",
          "text": [
            "(80, 20) (80, 1) (20, 20) (20, 1)\n"
          ]
        }
      ]
    },
    {
      "cell_type": "code",
      "source": [
        "w  =  np.random.uniform(0 , 1 , size = (x_train.shape[1], 1))"
      ],
      "metadata": {
        "id": "USNobfeWkF64"
      },
      "execution_count": 227,
      "outputs": []
    },
    {
      "cell_type": "code",
      "source": [
        "w.shape\n",
        "epochs  = 100\n",
        "\n",
        "def sigmoid(x):\n",
        "    exp_x  =  np.exp(-x)\n",
        "    act = 1/(1+ exp_x)\n",
        "    deriv =  act*(1-act)\n",
        "\n",
        "    return (act , deriv)"
      ],
      "metadata": {
        "id": "euJ96mMFkSox"
      },
      "execution_count": 228,
      "outputs": []
    },
    {
      "cell_type": "markdown",
      "source": [],
      "metadata": {
        "id": "BBmqgHN0Q64f"
      }
    },
    {
      "cell_type": "code",
      "source": [
        "\n",
        "def train_classi(w, b , x):\n",
        "\n",
        "  loss_arr_classification =  []\n",
        "\n",
        "  for i in range(epochs):\n",
        "\n",
        "    #forward pass\n",
        "    z  =  np.dot(x, w) + b\n",
        "    act , deriv = sigmoid(z)\n",
        "    y_pred  =  act\n",
        "\n",
        "    #loss\n",
        "    loss  =  -np.mean(y_train*np.log(y_pred+ 1e-8) + (1-y_train)*np.log(1-y_pred + 1e-8))\n",
        "    loss_arr_classification.append(loss)\n",
        "\n",
        "    dloss_dy_pred  =  (y_pred - y_train) / y_train.shape[0]\n",
        "\n",
        "\n",
        "    dw = np.dot(x.T, dloss_dy_pred)\n",
        "    db = np.sum(dloss_dy_pred, axis=0, keepdims=True)\n",
        "\n",
        "\n",
        "\n",
        "    #back_propogation\n",
        "\n",
        "    w   = w  - lr* dw\n",
        "    b =  b - lr* db\n",
        "\n",
        "  return w, b, loss_arr_classification\n",
        "\n"
      ],
      "metadata": {
        "id": "WikdypNej4-C"
      },
      "execution_count": 229,
      "outputs": []
    },
    {
      "cell_type": "code",
      "source": [
        "w, b, arr  = train_classi(w, b, x_train)"
      ],
      "metadata": {
        "id": "egdLWaEfqXF_"
      },
      "execution_count": 230,
      "outputs": []
    },
    {
      "cell_type": "code",
      "source": [
        "plt.plot(arr)\n",
        "plt.ylabel('loss')\n",
        "plt.xlabel('epochs')\n",
        "plt.title('loss vs epochs in Classification')\n",
        "plt.show()"
      ],
      "metadata": {
        "colab": {
          "base_uri": "https://localhost:8080/",
          "height": 472
        },
        "id": "tegbK9CEqenS",
        "outputId": "132b6f6a-8c42-4637-926c-40f3900c4830"
      },
      "execution_count": 231,
      "outputs": [
        {
          "output_type": "display_data",
          "data": {
            "text/plain": [
              "<Figure size 640x480 with 1 Axes>"
            ],
            "image/png": "[encoded data removed]"
          },
          "metadata": {}
        }
      ]
    },
    {
      "cell_type": "code",
      "source": [],
      "metadata": {
        "id": "iX-moGJ6raEu"
      },
      "execution_count": 231,
      "outputs": []
    },
    {
      "cell_type": "markdown",
      "source": [
        "## Q-2. Compare the Learning Rate Effects"
      ],
      "metadata": {
        "id": "F5yMlS99REtv"
      }
    },
    {
      "cell_type": "code",
      "source": [
        "x, y = make_classification(\n",
        "    n_samples=200,n_features=2, n_informative=2, n_redundant=0,  n_clusters_per_class=1, n_classes=2,random_state=42 )"
      ],
      "metadata": {
        "id": "XcBrpa3zRJd7"
      },
      "execution_count": 232,
      "outputs": []
    },
    {
      "cell_type": "code",
      "source": [
        "x.shape"
      ],
      "metadata": {
        "colab": {
          "base_uri": "https://localhost:8080/"
        },
        "id": "Kg5q6m8kRYCt",
        "outputId": "b6989f05-e80b-4ee4-f1a7-b372cd59c67e"
      },
      "execution_count": 233,
      "outputs": [
        {
          "output_type": "execute_result",
          "data": {
            "text/plain": [
              "(200, 2)"
            ]
          },
          "metadata": {},
          "execution_count": 233
        }
      ]
    },
    {
      "cell_type": "code",
      "source": [
        "y.shape"
      ],
      "metadata": {
        "colab": {
          "base_uri": "https://localhost:8080/"
        },
        "id": "FTtygM_DRzvG",
        "outputId": "52c8da49-cee1-49c4-933a-95c9b5aebb07"
      },
      "execution_count": 234,
      "outputs": [
        {
          "output_type": "execute_result",
          "data": {
            "text/plain": [
              "(200,)"
            ]
          },
          "metadata": {},
          "execution_count": 234
        }
      ]
    },
    {
      "cell_type": "code",
      "source": [
        "y  = y.reshape(-1, 1)\n",
        "y.shape"
      ],
      "metadata": {
        "colab": {
          "base_uri": "https://localhost:8080/"
        },
        "id": "af5lmeV_R20Q",
        "outputId": "934cc7bf-661a-4e36-9e0b-0f6f91ea394e"
      },
      "execution_count": 235,
      "outputs": [
        {
          "output_type": "execute_result",
          "data": {
            "text/plain": [
              "(200, 1)"
            ]
          },
          "metadata": {},
          "execution_count": 235
        }
      ]
    },
    {
      "cell_type": "code",
      "source": [
        "x_train , x_test, y_train, y_test =  train_test_split(x, y, test_size = 0.2)"
      ],
      "metadata": {
        "id": "UWapQzxVR6GM"
      },
      "execution_count": 236,
      "outputs": []
    },
    {
      "cell_type": "code",
      "source": [
        "print(x_train.shape,y_train.shape, x_test.shape,   y_test.shape)"
      ],
      "metadata": {
        "colab": {
          "base_uri": "https://localhost:8080/"
        },
        "id": "b3CxjAv9SAgR",
        "outputId": "df8c676a-0a2b-42ca-f1fc-396837982e04"
      },
      "execution_count": 237,
      "outputs": [
        {
          "output_type": "stream",
          "name": "stdout",
          "text": [
            "(160, 2) (160, 1) (40, 2) (40, 1)\n"
          ]
        }
      ]
    },
    {
      "cell_type": "code",
      "source": [
        "lr_rate  = [0.01,0.1,1]\n",
        "\n",
        "for lr in (lr_rate):\n",
        "\n",
        "  w  = np.random.uniform(0, 1, size =  (x_train.shape[1], 1))\n",
        "  b =  np.array([[1]])\n",
        "\n",
        "  w, b, loss_arr  = train_classi(w, b, x_train)\n",
        "  plt.plot(loss_arr , label =f'learning_rate:{lr}')\n",
        "  plt.xlabel('epochs')\n",
        "  plt.ylabel('loss')\n",
        "\n",
        "plt.title('loss vs epochs on different learning rate')\n",
        "plt.legend(lr_rate)\n",
        "plt.show()\n",
        "\n",
        "\n"
      ],
      "metadata": {
        "colab": {
          "base_uri": "https://localhost:8080/",
          "height": 472
        },
        "id": "XYNwIPmUSJ3R",
        "outputId": "87414098-3c91-4eab-bb8e-1f3303baceca"
      },
      "execution_count": 238,
      "outputs": [
        {
          "output_type": "display_data",
          "data": {
            "text/plain": [
              "<Figure size 640x480 with 1 Axes>"
            ],
            "image/png": "[encoded data removed]"
          },
          "metadata": {}
        }
      ]
    },
    {
      "cell_type": "code",
      "source": [
        "!jupyter nbconvert --to html /25DLS304.ipynb"
      ],
      "metadata": {
        "id": "iQaT42lXTYB7",
        "colab": {
          "base_uri": "https://localhost:8080/"
        },
        "outputId": "8705d494-e5eb-4590-87ec-c646986b2996"
      },
      "execution_count": 241,
      "outputs": [
        {
          "output_type": "stream",
          "name": "stdout",
          "text": [
            "[NbConvertApp] Converting notebook /25DLS304.ipynb to html\n",
            "[NbConvertApp] WARNING | Alternative text is missing on 3 image(s).\n",
            "[NbConvertApp] Writing 425775 bytes to /25DLS304.html\n"
          ]
        }
      ]
    },
    {
      "cell_type": "code",
      "source": [],
      "metadata": {
        "id": "znztVzFGYdVO"
      },
      "execution_count": null,
      "outputs": []
    }
  ]
}