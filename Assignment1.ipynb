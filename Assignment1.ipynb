{
  "nbformat": 4,
  "nbformat_minor": 0,
  "metadata": {
    "colab": {
      "provenance": [],
      "authorship_tag": "ABX9TyPFdfCMR4PGQg047vXvx4uP",
      "include_colab_link": true
    },
    "kernelspec": {
      "name": "python3",
      "display_name": "Python 3"
    },
    "language_info": {
      "name": "python"
    }
  },
  "cells": [
    {
      "cell_type": "markdown",
      "metadata": {
        "id": "view-in-github",
        "colab_type": "text"
      },
      "source": [
        "<a href=\"https://colab.research.google.com/github/Nimo160302/Deep_Learning_Codes/blob/main/Assignment1.ipynb\" target=\"_parent\"><img src=\"https://colab.research.google.com/assets/colab-badge.svg\" alt=\"Open In Colab\"/></a>"
      ]
    },
    {
      "cell_type": "code",
      "execution_count": 2,
      "metadata": {
        "id": "twx7YZvwTJoW"
      },
      "outputs": [],
      "source": [
        "#SOFTMAX FUNCTION\n",
        "import numpy as np"
      ]
    },
    {
      "cell_type": "code",
      "source": [
        "def softmax(x):\n",
        "  exp_x =  np.exp(x)\n",
        "  return exp_x /np.sum(exp_x)"
      ],
      "metadata": {
        "id": "B1qayjD-TUNk"
      },
      "execution_count": 3,
      "outputs": []
    },
    {
      "cell_type": "code",
      "source": [
        "x = np.array([1.0, 2.0, 3.0])\n",
        "print(softmax(x))"
      ],
      "metadata": {
        "colab": {
          "base_uri": "https://localhost:8080/"
        },
        "id": "F8W_1cpITjJP",
        "outputId": "bd12f76a-2edd-46c2-8c9e-f73d0eec4121"
      },
      "execution_count": 4,
      "outputs": [
        {
          "output_type": "stream",
          "name": "stdout",
          "text": [
            "[0.09003057 0.24472847 0.66524096]\n"
          ]
        }
      ]
    },
    {
      "cell_type": "code",
      "source": [
        "sum([0.09003057 ,0.24472847 ,0.66524096])"
      ],
      "metadata": {
        "colab": {
          "base_uri": "https://localhost:8080/"
        },
        "id": "LDyMy_e8TnF5",
        "outputId": "44631107-0125-49c5-8b9b-64f8fc0a2605"
      },
      "execution_count": 5,
      "outputs": [
        {
          "output_type": "execute_result",
          "data": {
            "text/plain": [
              "1.0"
            ]
          },
          "metadata": {},
          "execution_count": 5
        }
      ]
    },
    {
      "cell_type": "code",
      "source": [
        "# Given these examples, classify each as AI, ML, or DL by writing print() statements.\n",
        "\n",
        "examples = [\n",
        "\n",
        "    \"Self-driving car using CNNs\",\n",
        "\n",
        "    \"Spam detection using Naive Bayes\",\n",
        "\n",
        "    \"Expert system for medical diagnosis\",\n",
        "\n",
        "    \"Face recognition using Siamese Networks\",\n",
        "\n",
        "    \"Weather forecasting using linear regression\"\n",
        "\n",
        "]\n",
        "\n",
        "\n",
        "\n",
        "# Use Python logic to classify them in your output."
      ],
      "metadata": {
        "id": "_iuU7T6iTuAS"
      },
      "execution_count": 6,
      "outputs": []
    },
    {
      "cell_type": "code",
      "source": [
        "print(f'{examples[0]}: DL problem')\n",
        "print(f'{examples[1]}: ML problem')\n",
        "print(f'{examples[2]}: AI problem')\n",
        "print(f'{examples[3]}: DL problem')\n",
        "print(f'{examples[4]}: ML problem')\n",
        "\n"
      ],
      "metadata": {
        "colab": {
          "base_uri": "https://localhost:8080/"
        },
        "id": "m6iSca1wU-Bs",
        "outputId": "a14e6120-cb8b-4269-a89c-b55052b8d4a6"
      },
      "execution_count": 7,
      "outputs": [
        {
          "output_type": "stream",
          "name": "stdout",
          "text": [
            "Self-driving car using CNNs: DL problem\n",
            "Spam detection using Naive Bayes: ML problem\n",
            "Expert system for medical diagnosis: AI problem\n",
            "Face recognition using Siamese Networks: DL problem\n",
            "Weather forecasting using linear regression: ML problem\n"
          ]
        }
      ]
    },
    {
      "cell_type": "code",
      "source": [
        "'''Generate a 5x5 random matrix with values between 0 and 1 using PyTorch.\n",
        "Compute the mean, standard deviation, and sum of all elements using PyTorch operations.\n",
        "Then, convert the tensor to a NumPy array and recompute these statistics using NumPy.'''\n",
        "\n",
        "\n",
        "import torch\n",
        "\n",
        "m  = torch.rand((5,5))\n",
        "sum  =  torch.sum(m)\n",
        "mean  = torch.mean(m)\n",
        "sd  =  torch.std(m)\n",
        "\n",
        "print(m)\n",
        "\n",
        "print(f'\\n sum of all elemet is : {sum},\\n mean of all element is : {mean},\\n standard deviation is {sd} ')\n",
        "\n",
        "\n"
      ],
      "metadata": {
        "colab": {
          "base_uri": "https://localhost:8080/"
        },
        "id": "BuJzlHlQVIuc",
        "outputId": "6572eebc-a494-450e-e859-a9255a7536f9"
      },
      "execution_count": 8,
      "outputs": [
        {
          "output_type": "stream",
          "name": "stdout",
          "text": [
            "tensor([[0.3399, 0.9178, 0.6694, 0.2805, 0.8362],\n",
            "        [0.2747, 0.9875, 0.4412, 0.6588, 0.5236],\n",
            "        [0.7640, 0.6744, 0.1874, 0.2527, 0.5589],\n",
            "        [0.8387, 0.5756, 0.7156, 0.8304, 0.9563],\n",
            "        [0.5943, 0.1937, 0.4543, 0.9292, 0.7820]])\n",
            "\n",
            " sum of all elemet is : 15.237298011779785,\n",
            " mean of all element is : 0.6094919443130493,\n",
            " standard deviation is 0.2519480586051941 \n"
          ]
        }
      ]
    },
    {
      "cell_type": "code",
      "source": [
        "n = np.array(m)\n",
        "sum  = np.sum(n)\n",
        "mean = np.mean(n)\n",
        "sd = np.std(n)\n",
        "\n",
        "print(n)\n",
        "\n",
        "print(type(n))\n",
        "\n",
        "print(f'\\n sum of all elemet is : {sum},\\n mean of all element is : {mean},\\n standard deviation is {sd} ')\n"
      ],
      "metadata": {
        "colab": {
          "base_uri": "https://localhost:8080/"
        },
        "id": "HaXJugpjVoDy",
        "outputId": "f1714d26-b075-4559-accb-dd484b557879"
      },
      "execution_count": 9,
      "outputs": [
        {
          "output_type": "stream",
          "name": "stdout",
          "text": [
            "[[0.33991873 0.9178344  0.6694389  0.2805208  0.83624256]\n",
            " [0.27467722 0.9874868  0.4412474  0.65879846 0.52364016]\n",
            " [0.76403904 0.67440575 0.18736547 0.25265962 0.55892843]\n",
            " [0.838688   0.5755901  0.7155539  0.8304096  0.95631975]\n",
            " [0.59426725 0.19371063 0.4542873  0.92924476 0.78202474]]\n",
            "<class 'numpy.ndarray'>\n",
            "\n",
            " sum of all elemet is : 15.237298965454102,\n",
            " mean of all element is : 0.6094919443130493,\n",
            " standard deviation is 0.2468576580286026 \n"
          ]
        }
      ]
    },
    {
      "cell_type": "code",
      "source": [
        "# !sudo apt-get install texlive-xetex texlive-fonts-recommended texlive-plain-generic\n",
        "# !jupyter nbconvert --to pdf /Assignment1.ipynb"
      ],
      "metadata": {
        "id": "xFUBgPZ-Z_Wj"
      },
      "execution_count": 1,
      "outputs": []
    },
    {
      "cell_type": "code",
      "source": [],
      "metadata": {
        "id": "wvqip93WiQaO"
      },
      "execution_count": 9,
      "outputs": []
    }
  ]
}