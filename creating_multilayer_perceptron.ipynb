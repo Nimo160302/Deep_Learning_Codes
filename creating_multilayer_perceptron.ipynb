{
  "nbformat": 4,
  "nbformat_minor": 0,
  "metadata": {
    "colab": {
      "provenance": [],
      "authorship_tag": "ABX9TyOFN98rWc9m9dwaul/1gaDp",
      "include_colab_link": true
    },
    "kernelspec": {
      "name": "python3",
      "display_name": "Python 3"
    },
    "language_info": {
      "name": "python"
    }
  },
  "cells": [
    {
      "cell_type": "markdown",
      "metadata": {
        "id": "view-in-github",
        "colab_type": "text"
      },
      "source": [
        "<a href=\"https://colab.research.google.com/github/Nimo160302/Deep_Learning_Codes/blob/main/creating_multilayer_perceptron.ipynb\" target=\"_parent\"><img src=\"https://colab.research.google.com/assets/colab-badge.svg\" alt=\"Open In Colab\"/></a>"
      ]
    },
    {
      "cell_type": "code",
      "execution_count": 92,
      "metadata": {
        "id": "fLSuUBZP-9cy"
      },
      "outputs": [],
      "source": [
        "import numpy as np\n",
        "import matplotlib.pyplot as plt\n",
        "from sklearn.datasets import load_iris\n",
        "from sklearn.model_selection import train_test_split\n",
        "from sklearn.preprocessing import StandardScaler, OneHotEncoder"
      ]
    },
    {
      "cell_type": "code",
      "source": [
        "iris  = load_iris()"
      ],
      "metadata": {
        "id": "C5blswBUEMg3"
      },
      "execution_count": 93,
      "outputs": []
    },
    {
      "cell_type": "code",
      "source": [
        "X =  iris.data"
      ],
      "metadata": {
        "id": "2IU2yeVeGwhE"
      },
      "execution_count": 94,
      "outputs": []
    },
    {
      "cell_type": "code",
      "source": [
        "y =  iris.target.reshape(-1, 1)\n"
      ],
      "metadata": {
        "id": "jmCZ3jV4GxIW"
      },
      "execution_count": 95,
      "outputs": []
    },
    {
      "cell_type": "code",
      "source": [
        "y.shape"
      ],
      "metadata": {
        "colab": {
          "base_uri": "https://localhost:8080/"
        },
        "id": "gapA_djwIRKo",
        "outputId": "815cb991-1e35-450f-e8f3-ae4f2d3216a7"
      },
      "execution_count": 96,
      "outputs": [
        {
          "output_type": "execute_result",
          "data": {
            "text/plain": [
              "(150, 1)"
            ]
          },
          "metadata": {},
          "execution_count": 96
        }
      ]
    },
    {
      "cell_type": "code",
      "source": [
        "np.unique(y)"
      ],
      "metadata": {
        "colab": {
          "base_uri": "https://localhost:8080/"
        },
        "id": "Cp9D3tDsHwJe",
        "outputId": "23d84f78-30bd-4df9-f5d7-426147f0dabc"
      },
      "execution_count": 97,
      "outputs": [
        {
          "output_type": "execute_result",
          "data": {
            "text/plain": [
              "array([0, 1, 2])"
            ]
          },
          "metadata": {},
          "execution_count": 97
        }
      ]
    },
    {
      "cell_type": "code",
      "source": [
        "encoder  = OneHotEncoder(sparse_output =  False)\n",
        "y_encoded =  encoder.fit_transform(y)"
      ],
      "metadata": {
        "id": "X4Go2Y1yG9-B"
      },
      "execution_count": 98,
      "outputs": []
    },
    {
      "cell_type": "code",
      "source": [
        "scaler  = StandardScaler()\n",
        "x_scaled  = scaler.fit_transform(X)"
      ],
      "metadata": {
        "id": "wZJjEI1CH4Ov"
      },
      "execution_count": 99,
      "outputs": []
    },
    {
      "cell_type": "code",
      "source": [
        "x_train, x_test  , y_train , y_test  =  train_test_split(x_scaled,  y_encoded , test_size  = 0.2, random_state  = 42)"
      ],
      "metadata": {
        "id": "C-sAiD0PInLt"
      },
      "execution_count": 100,
      "outputs": []
    },
    {
      "cell_type": "code",
      "source": [
        "input_size  = X.shape[1]\n",
        "hidden_size = 8\n",
        "output_size  = 3\n",
        "lr  = 0.1\n",
        "epochs = 1000"
      ],
      "metadata": {
        "id": "IAd2FKyyI6Yy"
      },
      "execution_count": 101,
      "outputs": []
    },
    {
      "cell_type": "code",
      "source": [
        "def get_activation_fun(name):\n",
        "  if name == \"sigmoid\":\n",
        "    act  = lambda x : 1/(1 + np.exp(-x))\n",
        "    deriv =  lambda x :  x*(1-x )\n",
        "  elif name ==  \"tanh\":\n",
        "    act  =  np.tanh\n",
        "    deriv =  lambda x : 1 - (x**2)\n",
        "  elif name  == \"relu\":\n",
        "    act  =  lambda x : np.maximum(0,x)\n",
        "    deriv =  lambda x : np.where(x>0, 1 , 0)\n",
        "  elif name ==  \"leaky_relu\":\n",
        "     act  =  lambda x : np.maximum(0.01*x,x)\n",
        "     deriv =  lambda x : np.where(x>0, 1 , 0.1)\n",
        "  else:\n",
        "    raise ValueError(\"Invalid activation function name\")\n",
        "\n",
        "  return act, deriv"
      ],
      "metadata": {
        "id": "UNR6ok1pLUqo"
      },
      "execution_count": 102,
      "outputs": []
    },
    {
      "cell_type": "code",
      "source": [
        "def softmax(x):\n",
        "  exp_x  = np.exp(x -  np.max(x, axis =1 , keepdims = True))\n",
        "  return exp_x/ np.sum(exp_x, axis  = 1 , keepdims= True)"
      ],
      "metadata": {
        "id": "Q3FEw0lAM1Rl"
      },
      "execution_count": 103,
      "outputs": []
    },
    {
      "cell_type": "code",
      "source": [
        "def cross_entropy(y_true  ,  y_pred):\n",
        "  return -np.mean(np.sum(y_true * np.log(y_pred + 1e-8),axis = 1))"
      ],
      "metadata": {
        "id": "PuUtjl4RKr0r"
      },
      "execution_count": 104,
      "outputs": []
    },
    {
      "cell_type": "code",
      "source": [
        "def accuracy_score(y_true, y_pred):\n",
        "  return np.mean(np.argmax(y_true, axis=1) == np.argmax(y_pred, axis=1))"
      ],
      "metadata": {
        "id": "MDXsgHDPMndZ"
      },
      "execution_count": 105,
      "outputs": []
    },
    {
      "cell_type": "code",
      "source": [
        "import numpy as np\n",
        "x = [[1,2,3], [2,3,4]]\n",
        "np.sum(x, axis =0 )"
      ],
      "metadata": {
        "colab": {
          "base_uri": "https://localhost:8080/"
        },
        "id": "_lOxDIfhLz8N",
        "outputId": "382df469-085d-40b7-d92b-3ed5f1f694c5"
      },
      "execution_count": 106,
      "outputs": [
        {
          "output_type": "execute_result",
          "data": {
            "text/plain": [
              "array([3, 5, 7])"
            ]
          },
          "metadata": {},
          "execution_count": 106
        }
      ]
    },
    {
      "cell_type": "code",
      "source": [
        "def train_model(activation_name):\n",
        "  activation , activation_derivative  = get_activation_fun(activation_name)\n",
        "  loss_history = []\n",
        "  accuracy__history = []\n",
        "  #we need a weight matrix of dimension input_size by hidden_size\n",
        "  # w1 , b1 from input layer to hidden layer weights\n",
        "  # w2, b2 from hidden layer to output layer,\n",
        "  # we have only one hidden layer , if we had more then we need more weight matrices\n",
        "  w1  =  np.random.rand(input_size , hidden_size)\n",
        "  b1 =  np.zeros((1, hidden_size))\n",
        "  w2 =  np.random.rand(hidden_size , output_size)\n",
        "  b2  =  np.zeros((1, output_size))\n",
        "\n",
        "\n",
        "  for epoch in range(epochs):\n",
        "    #FORWARD PASSS EQUNT\n",
        "    z1  = np.dot(x_train,  w1) + b1 # z1  =  w1.x1 + b1\n",
        "    a1  = activation(z1)            # a1  =  relu(z1)\n",
        "    z2  = np.dot(a1 , w2  )+b2      # z2 =  a1.w2 + b2\n",
        "    a2 = softmax(z2)                # a2  =  softmax(z2)\n",
        "\n",
        "\n",
        "    #LOSS\n",
        "    loss = cross_entropy(y_train, a2)\n",
        "    loss_history.append(loss)\n",
        "\n",
        "    #BACKWARD PASS\n",
        "    dz2 = a2 - y_train\n",
        "    dw2  = np.dot(a1.T, dz2)\n",
        "    db2 =  np.sum(dz2,axis  = 0 , keepdims=True)\n",
        "\n",
        "    da1 = np.dot(dz2, w2.T)\n",
        "    dz1 = da1* activation_derivative(a1)\n",
        "    dw1 =  np.dot(x_train.T,dz1)\n",
        "    db1 = np.sum(dz1, axis =0 , keepdims=True)\n",
        "\n",
        "    #UPDATED WEIGHTS\n",
        "    w1 =  w1 - lr*dw1\n",
        "    b1 =  b1  - lr*db1\n",
        "    w2 = w2 - lr*dw2\n",
        "    b2 =  b2  - lr*db2\n",
        "\n",
        "  def predict(x):\n",
        "    z1 = np.dot(x, w1) + b1\n",
        "    a1  = activation(z1)\n",
        "\n",
        "    z2 =  np.dot(a1, w2) + b2\n",
        "    a2  = softmax(z2)\n",
        "\n",
        "    return a2\n",
        "\n",
        "\n",
        "  y_pred  = predict(x_test)\n",
        "  acc = accuracy_score(y_pred , y_test)\n",
        "\n",
        "  return (loss_history , acc)\n",
        "\n",
        "activations = [\"sigmoid\", \"tanh\", \"relu\", \"leaky_relu\"]\n",
        "plt.figure(figsize=(12, 6))\n",
        "accuracies = {}\n"
      ],
      "metadata": {
        "colab": {
          "base_uri": "https://localhost:8080/",
          "height": 34
        },
        "id": "Yg8UXVJGMaRt",
        "outputId": "dcccac52-8997-44a5-9d30-dd9b00bf3c6b"
      },
      "execution_count": 111,
      "outputs": [
        {
          "output_type": "display_data",
          "data": {
            "text/plain": [
              "<Figure size 1200x600 with 0 Axes>"
            ]
          },
          "metadata": {}
        }
      ]
    },
    {
      "cell_type": "code",
      "source": [
        "for act in activations:\n",
        "  losses, acc =  train_model(act)\n",
        "  accuracies[act] = acc\n",
        "  plt.plot(losses, label = f'{act}(acc = {acc: .2f})')\\\n",
        "\n",
        "plt.title(\"Loss curve for MLP 3 class :Iris dataset\")\n",
        "plt.xlabel(\"Epochs\")\n",
        "plt.ylabel(\"Loss\")\n",
        "plt.legend()\n",
        "plt.show()\n"
      ],
      "metadata": {
        "colab": {
          "base_uri": "https://localhost:8080/",
          "height": 472
        },
        "id": "KG0cZQ_FQlmh",
        "outputId": "5c1fe009-49e7-4c4d-9d77-365d182c8bc1"
      },
      "execution_count": 113,
      "outputs": [
        {
          "output_type": "display_data",
          "data": {
            "text/plain": [
              "<Figure size 640x480 with 1 Axes>"
            ],
            "image/png": "[encoded data removed]"
          },
          "metadata": {}
        }
      ]
    },
    {
      "cell_type": "code",
      "source": [],
      "metadata": {
        "id": "z7HQrE0lmNZ9"
      },
      "execution_count": 108,
      "outputs": []
    }
  ]
}