{
  "nbformat": 4,
  "nbformat_minor": 0,
  "metadata": {
    "colab": {
      "provenance": [],
      "authorship_tag": "ABX9TyO2Z9qEDq85NreM4X6FCdkN",
      "include_colab_link": true
    },
    "kernelspec": {
      "name": "python3",
      "display_name": "Python 3"
    },
    "language_info": {
      "name": "python"
    }
  },
  "cells": [
    {
      "cell_type": "markdown",
      "metadata": {
        "id": "view-in-github",
        "colab_type": "text"
      },
      "source": [
        "<a href=\"https://colab.research.google.com/github/Nimo160302/Deep_Learning_Codes/blob/main/OOP's.ipynb\" target=\"_parent\"><img src=\"https://colab.research.google.com/assets/colab-badge.svg\" alt=\"Open In Colab\"/></a>"
      ]
    },
    {
      "cell_type": "code",
      "source": [
        "class Guitar:\n",
        "  def __init__(self):\n",
        "    self.n_strings  = 6\n",
        "    self.play()\n",
        "    self.__cost2 = 60\n",
        "  def play(self):\n",
        "    print(\"pam pam pam pam pam pam\")\n",
        "\n",
        "#INHERITANCE\n",
        "\n",
        "class ElectricGuitar(Guitar):\n",
        "  def __init__(self):\n",
        "    super().__init__()\n",
        "    self.n_strings =  10\n",
        "    self.color = 'black'\n",
        "    self.__cost  = 100\n",
        "  def playLouder(self):\n",
        "    print('pam pam pam pam pam pam'.upper())\n",
        "\n",
        "my_guitar = ElectricGuitar()\n",
        "my_guitar.playLouder()\n",
        "\n"
      ],
      "metadata": {
        "colab": {
          "base_uri": "https://localhost:8080/"
        },
        "id": "Cioua2-OlJPK",
        "outputId": "218f6843-da2f-418d-c1a7-c454ec642155"
      },
      "execution_count": 11,
      "outputs": [
        {
          "output_type": "stream",
          "name": "stdout",
          "text": [
            "pam pam pam pam pam pam\n",
            "PAM PAM PAM PAM PAM PAM\n"
          ]
        }
      ]
    },
    {
      "cell_type": "code",
      "source": [
        "print(my_guitar.__cost) #this does not mean that we can not acces"
      ],
      "metadata": {
        "colab": {
          "base_uri": "https://localhost:8080/",
          "height": 141
        },
        "id": "aeV-oknIubxi",
        "outputId": "28c0128b-d40a-4def-d654-85534eca88ec"
      },
      "execution_count": 12,
      "outputs": [
        {
          "output_type": "error",
          "ename": "AttributeError",
          "evalue": "'ElectricGuitar' object has no attribute '__cost'",
          "traceback": [
            "\u001b[0;31m---------------------------------------------------------------------------\u001b[0m",
            "\u001b[0;31mAttributeError\u001b[0m                            Traceback (most recent call last)",
            "\u001b[0;32m<ipython-input-12-9ae4c47edee1>\u001b[0m in \u001b[0;36m<cell line: 0>\u001b[0;34m()\u001b[0m\n\u001b[0;32m----> 1\u001b[0;31m \u001b[0mprint\u001b[0m\u001b[0;34m(\u001b[0m\u001b[0mmy_guitar\u001b[0m\u001b[0;34m.\u001b[0m\u001b[0m__cost\u001b[0m\u001b[0;34m)\u001b[0m \u001b[0;31m#this does not mean that we can not acces\u001b[0m\u001b[0;34m\u001b[0m\u001b[0;34m\u001b[0m\u001b[0m\n\u001b[0m",
            "\u001b[0;31mAttributeError\u001b[0m: 'ElectricGuitar' object has no attribute '__cost'"
          ]
        }
      ]
    },
    {
      "cell_type": "code",
      "source": [
        "print(my_guitar._ElectricGuitar__cost) #we can access by _ followed by class name"
      ],
      "metadata": {
        "colab": {
          "base_uri": "https://localhost:8080/"
        },
        "id": "YvTnTa0duvQx",
        "outputId": "ea493826-1ecf-4ace-9b50-1bcc5f0e860c"
      },
      "execution_count": 13,
      "outputs": [
        {
          "output_type": "stream",
          "name": "stdout",
          "text": [
            "100\n"
          ]
        }
      ]
    },
    {
      "cell_type": "code",
      "source": [
        "my_guitar._ElectricGuitar__cost2"
      ],
      "metadata": {
        "colab": {
          "base_uri": "https://localhost:8080/",
          "height": 141
        },
        "id": "xCgLMmPUuyvz",
        "outputId": "cbba3e49-5698-42e1-9988-a0dcbad6a007"
      },
      "execution_count": 14,
      "outputs": [
        {
          "output_type": "error",
          "ename": "AttributeError",
          "evalue": "'ElectricGuitar' object has no attribute '_ElectricGuitar__cost2'",
          "traceback": [
            "\u001b[0;31m---------------------------------------------------------------------------\u001b[0m",
            "\u001b[0;31mAttributeError\u001b[0m                            Traceback (most recent call last)",
            "\u001b[0;32m<ipython-input-14-a521adcf3025>\u001b[0m in \u001b[0;36m<cell line: 0>\u001b[0;34m()\u001b[0m\n\u001b[0;32m----> 1\u001b[0;31m \u001b[0mmy_guitar\u001b[0m\u001b[0;34m.\u001b[0m\u001b[0m_ElectricGuitar__cost2\u001b[0m\u001b[0;34m\u001b[0m\u001b[0;34m\u001b[0m\u001b[0m\n\u001b[0m",
            "\u001b[0;31mAttributeError\u001b[0m: 'ElectricGuitar' object has no attribute '_ElectricGuitar__cost2'"
          ]
        }
      ]
    },
    {
      "cell_type": "code",
      "source": [
        "my_guitar._Guitar__cost2"
      ],
      "metadata": {
        "colab": {
          "base_uri": "https://localhost:8080/"
        },
        "id": "7uORnD4Bhrq4",
        "outputId": "186a17d0-8c28-4672-a009-ff195c4283b4"
      },
      "execution_count": 15,
      "outputs": [
        {
          "output_type": "execute_result",
          "data": {
            "text/plain": [
              "60"
            ]
          },
          "metadata": {},
          "execution_count": 15
        }
      ]
    },
    {
      "cell_type": "code",
      "source": [
        "'''practice oops : https://www.youtube.com/watch?v=-LsuiVGO-88'''"
      ],
      "metadata": {
        "colab": {
          "base_uri": "https://localhost:8080/",
          "height": 35
        },
        "id": "9P8x2Xjqhxzg",
        "outputId": "e57d467c-52c4-49ea-c6e1-22ed87d0f0ab"
      },
      "execution_count": 18,
      "outputs": [
        {
          "output_type": "execute_result",
          "data": {
            "text/plain": [
              "'practice oops : https://www.youtube.com/watch?v=-LsuiVGO-88'"
            ],
            "application/vnd.google.colaboratory.intrinsic+json": {
              "type": "string"
            }
          },
          "metadata": {},
          "execution_count": 18
        }
      ]
    },
    {
      "cell_type": "code",
      "source": [],
      "metadata": {
        "id": "L4ZHUkVdlVCQ"
      },
      "execution_count": null,
      "outputs": []
    }
  ]
}