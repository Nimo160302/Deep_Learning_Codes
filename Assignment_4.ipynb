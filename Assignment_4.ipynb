{
  "nbformat": 4,
  "nbformat_minor": 0,
  "metadata": {
    "colab": {
      "provenance": [],
      "authorship_tag": "ABX9TyPmRwO65hhhmt5NoULGdUR4",
      "include_colab_link": true
    },
    "kernelspec": {
      "name": "python3",
      "display_name": "Python 3"
    },
    "language_info": {
      "name": "python"
    }
  },
  "cells": [
    {
      "cell_type": "markdown",
      "metadata": {
        "id": "view-in-github",
        "colab_type": "text"
      },
      "source": [
        "<a href=\"https://colab.research.google.com/github/Nimo160302/Deep_Learning_Codes/blob/main/Assignment_4.ipynb\" target=\"_parent\"><img src=\"https://colab.research.google.com/assets/colab-badge.svg\" alt=\"Open In Colab\"/></a>"
      ]
    },
    {
      "cell_type": "code",
      "source": [
        "import numpy as np\n",
        "import torch\n",
        "import tensorflow as tf\n"
      ],
      "metadata": {
        "id": "wrtqSvNT09Ax"
      },
      "execution_count": null,
      "outputs": []
    },
    {
      "cell_type": "markdown",
      "source": [
        "Task 1 (5 Marks) – TensorFlow (Keras backend):\n",
        "Manually initialize weights and bias using tf.Variable\n",
        "\n",
        "Compute z = XW + b using tf.matmul\n",
        "\n",
        "Apply sigmoid using tf.math.sigmoid\n",
        "\n",
        "Compute Binary Cross-Entropy manually:"
      ],
      "metadata": {
        "id": "3FR6JfiJ44EV"
      }
    },
    {
      "cell_type": "code",
      "source": [
        "x =   tf.constant(tf.random.uniform(shape  =  [1,3]))"
      ],
      "metadata": {
        "id": "EQYGtSGM0kpz"
      },
      "execution_count": null,
      "outputs": []
    },
    {
      "cell_type": "code",
      "source": [
        "w  = tf.Variable(tf.random.uniform(shape  =  [3,1]))"
      ],
      "metadata": {
        "id": "uPp9rOeX02Lc"
      },
      "execution_count": null,
      "outputs": []
    },
    {
      "cell_type": "code",
      "source": [
        "b = tf.Variable([1.0])"
      ],
      "metadata": {
        "id": "TSdnBdlN44lZ"
      },
      "execution_count": null,
      "outputs": []
    },
    {
      "cell_type": "code",
      "source": [],
      "metadata": {
        "id": "XReBTrNV52xZ"
      },
      "execution_count": null,
      "outputs": []
    },
    {
      "cell_type": "code",
      "source": [
        "#ForwardPass\n",
        "z  =  tf.matmul(x, w)  + b\n",
        "y_pred =  tf.math.sigmoid(z)"
      ],
      "metadata": {
        "id": "6eMdlpAW6D7u"
      },
      "execution_count": null,
      "outputs": []
    },
    {
      "cell_type": "code",
      "source": [
        "def binary_cross(y_pred, y_true):\n",
        "  return -1* (y_pred * tf.math.log(y_true + 1e-8) + (1-y_pred ) * tf.math.log(1-y_true+1e-8))"
      ],
      "metadata": {
        "id": "gX3rf2YT6r6j"
      },
      "execution_count": null,
      "outputs": []
    },
    {
      "cell_type": "code",
      "source": [
        "y_true =  tf.constant([[1.0]])\n",
        "loss = binary_cross(y_pred, y_true)"
      ],
      "metadata": {
        "id": "hhtJf0wl7LsG"
      },
      "execution_count": null,
      "outputs": []
    },
    {
      "cell_type": "code",
      "source": [
        "loss"
      ],
      "metadata": {
        "colab": {
          "base_uri": "https://localhost:8080/"
        },
        "id": "Ow7W6-RG7pFp",
        "outputId": "299aaa61-d56a-4aec-bff0-0d9b380bbf54"
      },
      "execution_count": null,
      "outputs": [
        {
          "output_type": "execute_result",
          "data": {
            "text/plain": [
              "<tf.Tensor: shape=(1, 1), dtype=float32, numpy=array([[2.6999307]], dtype=float32)>"
            ]
          },
          "metadata": {},
          "execution_count": 9
        }
      ]
    },
    {
      "cell_type": "code",
      "source": [],
      "metadata": {
        "id": "oViVz5vA7sdL"
      },
      "execution_count": null,
      "outputs": []
    },
    {
      "cell_type": "markdown",
      "source": [
        "Task 2 (5 Marks) – PyTorch:\n",
        "Manually initialize weights and bias using torch.tensor\n",
        "\n",
        "Compute z = XW + b using torch.mm\n",
        "\n",
        "Apply sigmoid using torch.sigmoid\n",
        "\n",
        "Compute the same binary cross-entropy manually\n",
        "\n",
        "Call .backward() and print gradients of weights\n",
        "\n"
      ],
      "metadata": {
        "id": "WV7VaWjv8DPY"
      }
    },
    {
      "cell_type": "code",
      "source": [
        "torch.manual_seed(42)\n",
        "x  =  torch.tensor(torch.rand(size  = [1,3]))"
      ],
      "metadata": {
        "colab": {
          "base_uri": "https://localhost:8080/"
        },
        "id": "44O9hi3M_n4j",
        "outputId": "03449fab-4587-4ab7-9cc6-32d58296757f"
      },
      "execution_count": null,
      "outputs": [
        {
          "output_type": "stream",
          "name": "stderr",
          "text": [
            "<ipython-input-10-7d1fa72f0583>:2: UserWarning: To copy construct from a tensor, it is recommended to use sourceTensor.clone().detach() or sourceTensor.clone().detach().requires_grad_(True), rather than torch.tensor(sourceTensor).\n",
            "  x  =  torch.tensor(torch.rand(size  = [1,3]))\n"
          ]
        }
      ]
    },
    {
      "cell_type": "code",
      "source": [
        "w =  torch.nn.Parameter(torch.tensor(torch.rand(size  = [3,1])))"
      ],
      "metadata": {
        "colab": {
          "base_uri": "https://localhost:8080/"
        },
        "id": "FqJo68ux8Dpr",
        "outputId": "0ce92d34-24e9-47a0-df1e-7b84bd6d2a1f"
      },
      "execution_count": null,
      "outputs": [
        {
          "output_type": "stream",
          "name": "stderr",
          "text": [
            "<ipython-input-11-31751d9d24c1>:1: UserWarning: To copy construct from a tensor, it is recommended to use sourceTensor.clone().detach() or sourceTensor.clone().detach().requires_grad_(True), rather than torch.tensor(sourceTensor).\n",
            "  w =  torch.nn.Parameter(torch.tensor(torch.rand(size  = [3,1])))\n"
          ]
        }
      ]
    },
    {
      "cell_type": "code",
      "source": [
        "b  = torch.nn.Parameter(torch.tensor([1.0]))"
      ],
      "metadata": {
        "id": "HUwjkJMP-Mic"
      },
      "execution_count": null,
      "outputs": []
    },
    {
      "cell_type": "code",
      "source": [
        "w"
      ],
      "metadata": {
        "colab": {
          "base_uri": "https://localhost:8080/"
        },
        "id": "nPLjdkbf-zLQ",
        "outputId": "f6439c1f-18e8-44bb-e31c-059cb51dd43f"
      },
      "execution_count": null,
      "outputs": [
        {
          "output_type": "execute_result",
          "data": {
            "text/plain": [
              "Parameter containing:\n",
              "tensor([[0.9593],\n",
              "        [0.3904],\n",
              "        [0.6009]], requires_grad=True)"
            ]
          },
          "metadata": {},
          "execution_count": 13
        }
      ]
    },
    {
      "cell_type": "code",
      "source": [
        "b"
      ],
      "metadata": {
        "colab": {
          "base_uri": "https://localhost:8080/"
        },
        "id": "EjNAOihX_nfr",
        "outputId": "a54152a5-d1ea-46da-a11d-6d327e7d58ac"
      },
      "execution_count": null,
      "outputs": [
        {
          "output_type": "execute_result",
          "data": {
            "text/plain": [
              "Parameter containing:\n",
              "tensor([1.], requires_grad=True)"
            ]
          },
          "metadata": {},
          "execution_count": 14
        }
      ]
    },
    {
      "cell_type": "code",
      "source": [
        "z =  torch.mm(x,w) +  b\n",
        "y_pred  =  torch.sigmoid(z)\n",
        "y_true = torch.tensor([[1.0]])\n"
      ],
      "metadata": {
        "id": "fHW0erpo_0s-"
      },
      "execution_count": null,
      "outputs": []
    },
    {
      "cell_type": "code",
      "source": [
        "loss  = -1* (y_true * torch.log(y_pred + 1e-8) + (1-y_true) * torch.log(1-y_pred + 1e-8))"
      ],
      "metadata": {
        "id": "TO7NfSXB_1SN"
      },
      "execution_count": null,
      "outputs": []
    },
    {
      "cell_type": "code",
      "source": [
        "# Make the loss a scalar by summing it\n",
        "loss_scalar = loss.sum()"
      ],
      "metadata": {
        "id": "yVn9Yy4jAePO"
      },
      "execution_count": null,
      "outputs": []
    },
    {
      "cell_type": "code",
      "source": [
        "loss_scalar.backward()"
      ],
      "metadata": {
        "id": "eikSQTa1AiC7"
      },
      "execution_count": null,
      "outputs": []
    },
    {
      "cell_type": "code",
      "source": [
        "print(w.grad)"
      ],
      "metadata": {
        "colab": {
          "base_uri": "https://localhost:8080/"
        },
        "id": "gRJOZCI4hx7D",
        "outputId": "a4de774b-43b8-4488-e957-2462e0cc8f32"
      },
      "execution_count": null,
      "outputs": [
        {
          "output_type": "stream",
          "name": "stdout",
          "text": [
            "tensor([[-0.0711],\n",
            "        [-0.0738],\n",
            "        [-0.0309]])\n"
          ]
        }
      ]
    },
    {
      "cell_type": "code",
      "source": [
        "!jupyter nbconvert --to html /content/25DLS304_NimishParmar.ipynb"
      ],
      "metadata": {
        "colab": {
          "base_uri": "https://localhost:8080/"
        },
        "id": "Lc3SDUHih2SL",
        "outputId": "17b2ecb0-0d5e-4875-ce06-53ab932e1125"
      },
      "execution_count": null,
      "outputs": [
        {
          "output_type": "stream",
          "name": "stdout",
          "text": [
            "[NbConvertApp] Converting notebook /content/25DLS304_NimishParmar.ipynb to html\n",
            "[NbConvertApp] Writing 291949 bytes to /content/25DLS304_NimishParmar.html\n"
          ]
        }
      ]
    },
    {
      "cell_type": "code",
      "source": [],
      "metadata": {
        "id": "J9eK9POslr7s"
      },
      "execution_count": null,
      "outputs": []
    }
  ]
}