{
  "nbformat": 4,
  "nbformat_minor": 0,
  "metadata": {
    "colab": {
      "provenance": [],
      "authorship_tag": "ABX9TyNhVj7JnjyjC7KarFKhAJ9k",
      "include_colab_link": true
    },
    "kernelspec": {
      "name": "python3",
      "display_name": "Python 3"
    },
    "language_info": {
      "name": "python"
    }
  },
  "cells": [
    {
      "cell_type": "markdown",
      "metadata": {
        "id": "view-in-github",
        "colab_type": "text"
      },
      "source": [
        "<a href=\"https://colab.research.google.com/github/Nimo160302/Deep_Learning_Codes/blob/main/Assignment2.ipynb\" target=\"_parent\"><img src=\"https://colab.research.google.com/assets/colab-badge.svg\" alt=\"Open In Colab\"/></a>"
      ]
    },
    {
      "cell_type": "code",
      "execution_count": 5,
      "metadata": {
        "colab": {
          "base_uri": "https://localhost:8080/"
        },
        "id": "qCpxrai8kqOh",
        "outputId": "c20623e6-b61a-46b8-f493-ae1f3e397dbb"
      },
      "outputs": [
        {
          "output_type": "execute_result",
          "data": {
            "text/plain": [
              "array([[77, 63, 84],\n",
              "       [50, 41, 51],\n",
              "       [83, 68, 87]])"
            ]
          },
          "metadata": {},
          "execution_count": 5
        }
      ],
      "source": [
        "\"\"\"Create two matrices:\n",
        "\n",
        "Matrix A of shape (3×2) and Matrix B of shape (2×3) using np.random.randint.\n",
        "\n",
        "Multiply A and B. Print the result.\n",
        "\n",
        "Define matrix D = [[4, 2], [1, 3]]\n",
        "\n",
        "Find its eigenvalues and eigenvectors using NumPy.\n",
        "\n",
        "Plot the eigenvectors using matplotlib.pyplot.quiver\"\"\"\n",
        "\n",
        "import numpy as np\n",
        "\n",
        "A = np.random.randint(low = 2 , high = 10 , size = (3,2))\n",
        "B = np.random.randint(low = 2 , high = 10 , size = (2,3))\n",
        "np.matmul(A, B)"
      ]
    },
    {
      "cell_type": "code",
      "source": [
        "D = np.array([[4,2],[1,3]])\n",
        "eigenvalues , eigenvectores = np.linalg.eig(D)"
      ],
      "metadata": {
        "id": "M0wMpvB1lX4Z"
      },
      "execution_count": 6,
      "outputs": []
    },
    {
      "cell_type": "code",
      "source": [
        "print(eigenvalues)\n",
        "print(eigenvectores)"
      ],
      "metadata": {
        "colab": {
          "base_uri": "https://localhost:8080/"
        },
        "id": "dJMSUWgAlYly",
        "outputId": "9ffcb0fc-db8a-4560-bd42-80ae7ca5a79f"
      },
      "execution_count": 7,
      "outputs": [
        {
          "output_type": "stream",
          "name": "stdout",
          "text": [
            "[5. 2.]\n",
            "[[ 0.89442719 -0.70710678]\n",
            " [ 0.4472136   0.70710678]]\n"
          ]
        }
      ]
    },
    {
      "cell_type": "code",
      "source": [
        "'''Use sympy to define the function:\n",
        "f(x)=3x3−5x2+2x−1\n",
        "Find the derivative symbolically.\n",
        "\n",
        "Evaluate the derivative at x=2x = 2x=2'''\n"
      ],
      "metadata": {
        "colab": {
          "base_uri": "https://localhost:8080/",
          "height": 35
        },
        "id": "3buy0Nr7mpb8",
        "outputId": "7c6df5b8-6c95-4ae3-d0de-459670fe9aab"
      },
      "execution_count": 8,
      "outputs": [
        {
          "output_type": "execute_result",
          "data": {
            "text/plain": [
              "'Use sympy to define the function:\\nf(x)=3x3−5x2+2x−1\\nFind the derivative symbolically.\\n\\nEvaluate the derivative at x=2x = 2x=2'"
            ],
            "application/vnd.google.colaboratory.intrinsic+json": {
              "type": "string"
            }
          },
          "metadata": {},
          "execution_count": 8
        }
      ]
    },
    {
      "cell_type": "code",
      "source": [
        "import sympy\n",
        "x  = sympy.symbols('x')"
      ],
      "metadata": {
        "id": "ZN6Fxz4amtbh"
      },
      "execution_count": 9,
      "outputs": []
    },
    {
      "cell_type": "code",
      "source": [
        "fx =  3*x**3 - 5*x**2 + 2*x -1\n",
        "d_fx =  sympy.Derivative(fx,x)\n",
        "print(f'{d_fx} =  {sympy.diff(fx,x)}')\n",
        "g_x =  sympy.diff(fx,x)\n",
        "print(f'Value at x  = 2 is  {g_x.subs(x,2)}')\n"
      ],
      "metadata": {
        "colab": {
          "base_uri": "https://localhost:8080/"
        },
        "id": "62843pecm6U2",
        "outputId": "7d089030-a8ed-4538-b877-42e836fd3c6b"
      },
      "execution_count": 10,
      "outputs": [
        {
          "output_type": "stream",
          "name": "stdout",
          "text": [
            "Derivative(3*x**3 - 5*x**2 + 2*x - 1, x) =  9*x**2 - 10*x + 2\n",
            "Value at x  = 2 is  18\n"
          ]
        }
      ]
    },
    {
      "cell_type": "code",
      "source": [
        "'''Define f(x,y)=x2+y2\n",
        "\n",
        "Compute its gradient\n",
        "\n",
        "Perform one gradient descent step from (x=3, y=4) using learning rate = 0.1'''\n",
        "\n",
        "y  = sympy.symbols('y')\n",
        "f_x  =  x**2 + y**2\n",
        "g_x  =  [sympy.diff(f_x, var) for var in (x, y) ]\n",
        "print(g_x)\n",
        "\n",
        "\n",
        "# Evaluate gradient at (3, 4)\n",
        "grad_at_point = [g.subs({x: 3, y: 4}) for g in g_x]\n",
        "print(grad_at_point)\n",
        "\n",
        "lr  = 0.1\n",
        "x_new   =  3  - lr*grad_at_point[0]\n",
        "y_new  =  4 - lr*grad_at_point[1]\n",
        "print(x_new,y_new)\n",
        "\n"
      ],
      "metadata": {
        "colab": {
          "base_uri": "https://localhost:8080/"
        },
        "id": "q79SUX-9nuSS",
        "outputId": "b6ad944f-1574-4fee-9aad-0e069787fc89"
      },
      "execution_count": 11,
      "outputs": [
        {
          "output_type": "stream",
          "name": "stdout",
          "text": [
            "[2*x, 2*y]\n",
            "[6, 8]\n",
            "2.40000000000000 3.20000000000000\n"
          ]
        }
      ]
    },
    {
      "cell_type": "code",
      "source": [
        "'''Simulate rolling a fair die 1000 times using numpy.random.randint.\n",
        "\n",
        "Plot histogram\n",
        "\n",
        "Print empirical mean and variance '''\n",
        "\n",
        "import matplotlib.pyplot as plt\n",
        "arr =[]\n",
        "for i in range(0,1000):\n",
        "   arr.append(np.random.randint(low = 1, high =7 ))\n",
        "plt.hist(arr)\n",
        "\n",
        "plt.plot(figure_size = (12,23))\n",
        "plt.xlabel('outcomes')\n",
        "plt.ylabel('frequency')\n",
        "print(np.mean(arr))\n",
        "print(np.var(arr))\n",
        "\n",
        "\n",
        "\n"
      ],
      "metadata": {
        "colab": {
          "base_uri": "https://localhost:8080/",
          "height": 484
        },
        "id": "zaEL8yQdoOx7",
        "outputId": "a1527fdf-d707-4f16-b4c2-f2532c99b0fa"
      },
      "execution_count": 12,
      "outputs": [
        {
          "output_type": "stream",
          "name": "stdout",
          "text": [
            "3.433\n",
            "2.871511\n"
          ]
        },
        {
          "output_type": "display_data",
          "data": {
            "text/plain": [
              "<Figure size 640x480 with 1 Axes>"
            ],
            "image/png": "[encoded data removed]"
          },
          "metadata": {}
        }
      ]
    },
    {
      "cell_type": "code",
      "source": [
        "'''Simulate a biased coin toss (P(heads)=0.7) 500 times using numpy.random.choice.\n",
        "\n",
        "Count heads and tails\n",
        "\n",
        "Plot a bar chart '''\n",
        "\n",
        "a =  ['H', 'T']\n",
        "k = np.random.choice(a , 500 ,  p  = [0.7, 0.3])\n",
        "\n",
        "unique_elements, counts = np.unique(k, return_counts=True)\n",
        "\n",
        "print(unique_elements, counts)\n",
        "plt.bar(unique_elements, counts)\n",
        "plt.show()"
      ],
      "metadata": {
        "colab": {
          "base_uri": "https://localhost:8080/",
          "height": 447
        },
        "id": "j-_7FoX9pg7b",
        "outputId": "57a559b2-19af-42f5-a3f4-f220a413f3c8"
      },
      "execution_count": 13,
      "outputs": [
        {
          "output_type": "stream",
          "name": "stdout",
          "text": [
            "['H' 'T'] [353 147]\n"
          ]
        },
        {
          "output_type": "display_data",
          "data": {
            "text/plain": [
              "<Figure size 640x480 with 1 Axes>"
            ],
            "image/png": "[encoded data removed]"
          },
          "metadata": {}
        }
      ]
    },
    {
      "cell_type": "code",
      "source": [
        "# !sudo apt-get install texlive-xetex texlive-fonts-recommended texlive-plain-generic\n",
        "# !jupyter nbconvert --to pdf /Assignment2.ipynb"
      ],
      "metadata": {
        "id": "nXHvl-Twt-1o"
      },
      "execution_count": 14,
      "outputs": []
    },
    {
      "cell_type": "code",
      "source": [],
      "metadata": {
        "id": "w50Kp-ZevtQT"
      },
      "execution_count": 14,
      "outputs": []
    }
  ]
}